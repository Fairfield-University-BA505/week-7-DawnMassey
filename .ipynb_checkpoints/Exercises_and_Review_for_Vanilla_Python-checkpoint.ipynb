{
 "cells": [
  {
   "cell_type": "markdown",
   "metadata": {},
   "source": [
    "# Python Review & Exercises\n",
    "\n",
    "These exercise questions are developed to help you review concepts and skills we covered in the first half of the class, where we prepare you to get started with following topics:\n",
    "\n",
    "- Variables, Statements, Expressions\n",
    "- Operators and Calculations\n",
    "- If statements\n",
    "- Function definitions and calls\n",
    "- Iterations (at least for loops)\n",
    "- strings\n",
    "- lists\n",
    "- dictionaries\n",
    "\n",
    "Remember that following questions require __more than one topics__ from above."
   ]
  },
  {
   "cell_type": "markdown",
   "metadata": {},
   "source": [
    "## Ground Rules\n",
    "\n",
    "Below rules define how this works:\n",
    "\n",
    "1. Please complete these questions in class, and if needed, after class, no later than __10/27__. You should submit the completed notebook back via Github Classroom.\n",
    "2. This is neither an exam nor an assignment - I will __NOT__ grade these. This is for you to test whether you are ready to move onto the next part of the class.\n",
    "3. Please __work with your peers__. You can learn much more if you work actively with your peers, by teaching each other. If you have not started doing so, this may be the perfect opportunity.\n",
    "4. Be __active__ in this class. I want to hear your opinions/soluions to problems below. So please speak up! This is a fair learning environment.\n",
    "5. Do __not__ try to copy code from others, include the Internet. The purpose is not to complete these questions, rather to test where your strengths and weaknesses are. Do not __fake__ it!\n",
    "\n",
    "Okay, rules are clear, let's start!"
   ]
  },
  {
   "cell_type": "markdown",
   "metadata": {},
   "source": [
    "## Q1. Code Explanation Problem\n",
    "\n",
    "#### Common Characters between Two Strings\n",
    "\n",
    "I was asked to develop a function (`common_char()`) to find out what common charaters are shared between two strings. I have provided two solutions to the problem. \n",
    "\n",
    "1. In solution 1 use a _one-liner_ for loop to solve the problem. Please write out the function in multiple lines (the regular for loop with an if statement) to make sure you understand how this works;\n",
    "2. In solution 2 I used something you have never seen in this class (__python sets__). In real world you may come across codes that you have never seen. Use Google to help you understand how _sets_ work in Python (__python sets__ might be a good search term for starters). Write you understanding in comments."
   ]
  },
  {
   "cell_type": "code",
   "execution_count": 1,
   "metadata": {
    "collapsed": false
   },
   "outputs": [
    {
     "data": {
      "text/plain": [
       "['a', 'b']"
      ]
     },
     "execution_count": 1,
     "metadata": {},
     "output_type": "execute_result"
    }
   ],
   "source": [
    "s1 = 'abc'\n",
    "s2 = 'bad'\n",
    "\n",
    "# solution 1\n",
    "def common_char1(s1, s2):\n",
    "    return [c1 for c1 in s1 if c1 in s2]\n",
    "    \n",
    "common_char1(s1, s2)"
   ]
  },
  {
   "cell_type": "code",
   "execution_count": 15,
   "metadata": {},
   "outputs": [
    {
     "data": {
      "text/plain": [
       "['a', 'b']"
      ]
     },
     "execution_count": 15,
     "metadata": {},
     "output_type": "execute_result"
    }
   ],
   "source": [
    "#Re-write of code in prior box using multiple lines\n",
    "#find common characters between 2 strings\n",
    "\n",
    "#Provide the strings\n",
    "s1 = 'abc'\n",
    "s2 = 'bad'\n",
    "\n",
    "#Define function to find common characters between 2 stings\n",
    "def common_char3(s1,s2): #if we use x,y - even if not below - no error b/c we've defined s1 and s2...but BETTER TO USE x,y b/c you have sets with these variable names\n",
    "\n",
    "    #Create an empty list to hold the common characters between the 2 strings\n",
    "    result_list = []\n",
    "    #Use a for loop to look for a character from the first set (s1) in the second set (s2)\n",
    "    for c1 in s1: #need to change s1 into x if change to x,y above in the argument area; better to use x\n",
    "        #if found...\n",
    "        if c1 in s2: #need to change s2 into y if change to x,y above in argument area; better to use y\n",
    "            #...add to empty list\n",
    "            result_list.append(c1)\n",
    "        #if not found...\n",
    "        else:\n",
    "            #skip\n",
    "            pass\n",
    "    #need to return the result_list\n",
    "    return result_list\n",
    "\n",
    "#call the function\n",
    "common_char3(s1,s2) #can replace with the actual strings s1 and s2 if you like; better to use x,y"
   ]
  },
  {
   "cell_type": "code",
   "execution_count": 34,
   "metadata": {},
   "outputs": [
    {
     "data": {
      "text/plain": [
       "['a', 'b']"
      ]
     },
     "execution_count": 34,
     "metadata": {},
     "output_type": "execute_result"
    }
   ],
   "source": [
    "#Better version of the above - use x and y rather than s1 and s2, because s1 & s2 define sets\n",
    "#Re-write of code in prior box using multiple lines\n",
    "#find common characters between 2 strings\n",
    "\n",
    "#Provide the strings\n",
    "s1 = 'abc'\n",
    "s2 = 'bad'\n",
    "\n",
    "#Define function to find common characters between 2 stings\n",
    "def common_char3(x,y): #use x,y b/c you have datasets with the names s1 and s2\n",
    "\n",
    "    #Create an empty list to hold the common characters between the 2 strings\n",
    "    result_list = []\n",
    "    #Use a for loop to look for a character from in x and y, the names in the function\n",
    "    for c in x: #can use y - output just reverses order\n",
    "        #if found...\n",
    "        if c in y: #can use x - output just reverses order\n",
    "            #...add to empty list\n",
    "            result_list.append(c)\n",
    "        #if not found...\n",
    "        else:\n",
    "            #skip\n",
    "            pass\n",
    "    #need to return the result_list\n",
    "    return result_list\n",
    "\n",
    "#call the function\n",
    "common_char3(s1,s2) #can't use x,y because they only exist inside the function...so call the created strings"
   ]
  },
  {
   "cell_type": "code",
   "execution_count": 47,
   "metadata": {
    "collapsed": false
   },
   "outputs": [
    {
     "data": {
      "text/plain": [
       "['c']"
      ]
     },
     "execution_count": 47,
     "metadata": {},
     "output_type": "execute_result"
    }
   ],
   "source": [
    "#Define the function to find common characters between 2 strings\n",
    "def common_char2(s1, s2):\n",
    "    #The & is a python \"bit wise\" set operator...shows the intersection of the 2 sets\n",
    "    return list(set(s1) & set(s2))\n",
    "     #if change & to - ... it shows what is outside of the intersection of the 2 sets\n",
    "    #return list(set(s1) - set(s2))\n",
    "#Calling the function to return the intersection of the 2 sets\n",
    "common_char2(s1, s2)"
   ]
  },
  {
   "cell_type": "markdown",
   "metadata": {},
   "source": [
    "## Q2. Coding Problem\n",
    "\n",
    "Given any list of integers, write a function (`sort_even()`) to sort any even numbers in a sub-list, leave all odd numbers unsorted in another sub-list.\n",
    "\n",
    "#### Example:\n",
    "- sort_even([4, 3, 2, 1, 6]) --> [[2, 4, 6], [3, 1]]\n",
    "- sort_even([4, 2]) --> [[2, 4], []]\n",
    "- sort_even([3, 1] --> [[], [3, 1]]\n",
    "- sort_even([]) --> []\n",
    "\n",
    "#### HINTS:\n",
    "\n",
    "- Clearly we want to treat odd and even numbers separately - maybe two lists to hold the two parts?\n",
    "- You may want to go through the list using a loop."
   ]
  },
  {
   "cell_type": "code",
   "execution_count": 5,
   "metadata": {
    "collapsed": true
   },
   "outputs": [
    {
     "data": {
      "text/plain": [
       "[[2, 4], [5, 1, 3]]"
      ]
     },
     "execution_count": 5,
     "metadata": {},
     "output_type": "execute_result"
    }
   ],
   "source": [
    "# Write your code here - to divide a list of #s to odd/even & sort even numbers in one list & put odd (in any order) in another\n",
    "\n",
    "#Create list of integers\n",
    "integer_list = [5,4,1,2,3]\n",
    "\n",
    "#Define the function whose names exist only in the function - x,y work\n",
    "def sort_even(test_list): #use something different from name of the integer list w/same below\n",
    "\n",
    "    #Create an empty lists to hold the even and odd results\n",
    "    even_list = []\n",
    "    odd_list = []\n",
    "    #Use a for loop to look for a character in the test_list - i.e., the name of the function\n",
    "    for x in test_list: \n",
    "        #if found...\n",
    "        if x % 2 == 0: \n",
    "            #...add to even list\n",
    "            even_list.append(x)\n",
    "            #even_list.sort() - only put things that are ABSOLUTELY necessary in the for loop\n",
    "        #if not found...\n",
    "        else:\n",
    "            #...add to odd list\n",
    "            odd_list.append(x)\n",
    "        #even_list.sort() - don't put it here\n",
    "    even_list.sort() #put it here - because you want to sort the list only once at the end\n",
    "    return ([even_list, odd_list])\n",
    "\n",
    "#call the function - for now the list of integers\n",
    "sort_even(integer_list) #can't use test_list; rather - need to refer to the actual data being checked"
   ]
  },
  {
   "cell_type": "markdown",
   "metadata": {},
   "source": [
    "## Q3. Coding Problem\n",
    "\n",
    "Given a list of integers, write a function(`pair_func()`) that pairs the first number in an array with the last, the second number with the second to last, etc.\n",
    "\n",
    "#### HINTS: \n",
    "- If the list has an __odd length__, __repeat__ the middle element twice for the last pair.\n",
    "- Return an empty list if the input is an empty list.\n",
    "- Note that the result is a list of lists - so the returned `result_lst` should contain sub lists called `pairs`.\n",
    "\n",
    "#### Examples:\n",
    "- pair_func([1, 2, 3, 4, 5, 6, 7]) ➞ [[1, 7], [2, 6], [3, 5], [4, 4]]\n",
    "- pair_func([1, 2, 3, 4, 5, 6]) ➞ [[1, 6], [2, 5], [3, 4]]\n",
    "- pair_func([5, 9, 8, 1, 2]) ➞ [[5, 2], [9, 1], [8, 8]]\n",
    "- pair_func([]) ➞ []"
   ]
  },
  {
   "cell_type": "code",
   "execution_count": 6,
   "metadata": {
    "collapsed": true
   },
   "outputs": [
    {
     "data": {
      "text/plain": [
       "[[1, 9], [2, 8], [3, 7], [4, 6], [5, 5]]"
      ]
     },
     "execution_count": 6,
     "metadata": {},
     "output_type": "execute_result"
    }
   ],
   "source": [
    "# Write your code here - to pair numbers in a list (and put middle number 2x if an odd list)\n",
    "\n",
    "#Create list of integers\n",
    "integer_list = [1,2,3,4,5,6,7,8]\n",
    "\n",
    "#Define the function whose names exist only in the function - x,y work\n",
    "def pair_func(list): #use something different from name of the integer list w/same below\n",
    "    #print(list)\n",
    "    pair_list = []\n",
    "    for i in range(int(len(list)/2 + 0.5)):\n",
    "        #print(i)\n",
    "        pair_list += [[list[i],list[-(i+1)]]]\n",
    "    return pair_list\n",
    "\n",
    "#pair_func([1,2,3,4,5,6,7,8])\n",
    "pair_func([1,2,3,4,5,6,7,8,9])    \n",
    "    "
   ]
  },
  {
   "cell_type": "code",
   "execution_count": 7,
   "metadata": {},
   "outputs": [
    {
     "data": {
      "text/plain": [
       "[[1, 9], [2, 8], [3, 7], [3, 6], [5, 5]]"
      ]
     },
     "execution_count": 7,
     "metadata": {},
     "output_type": "execute_result"
    }
   ],
   "source": [
    "#ONE-LINER FOR THE ABOVE:\n",
    "def pair_func(list):\n",
    "    return [[list[i],list[-(i+1)]] for i in range(int(len(list)/2 +0.5))]\n",
    "pair_func([1,2,3,3,5,6,7,8,9])"
   ]
  },
  {
   "cell_type": "markdown",
   "metadata": {},
   "source": [
    "## Q4. Coding Problem\n",
    "\n",
    "You work for a manufacturer, and have been asked to write a function (`profit_calc`) to calculate the _total profit_ made on the sales of a product.\n",
    "\n",
    "- You need to create a dictionary containing the cost price per unit (in dollars), sell price per unit (in dollars), and the starting inventory. The values in the dictionary should be __user inputs__.\n",
    "\n",
    "- Return the total profit made, rounded to the _nearest cent_ (2 digits after the decimal point). Assume __all of the inventory has been sold__.\n",
    "\n",
    "- Please insert the result from the function back to the original dictionary, use the key as `'profit'`.\n",
    "\n",
    "#### Example Dictionary:\n",
    "```python\n",
    "prod_dict = {\n",
    "  \"cost_price\": 32.67,\n",
    "  \"sell_price\": 45.00,\n",
    "  \"inventory\": 1200\n",
    "}\n",
    "```\n",
    "\n",
    "\n",
    "#### Example Output:\n",
    "```python\n",
    "# profit_calc(prod_dict) =  14796\n",
    "\n",
    "prod_dict = {\n",
    "  \"cost_price\": 32.67,\n",
    "  \"sell_price\": 45.00,\n",
    "  \"inventory\": 1200,\n",
    "  \"profit\": 14796\n",
    "}\n",
    "```\n",
    "\n",
    "#### HINT: \n",
    "$profit = (v2 - v1) \\times v3$"
   ]
  },
  {
   "cell_type": "code",
   "execution_count": 13,
   "metadata": {
    "collapsed": false
   },
   "outputs": [
    {
     "name": "stdin",
     "output_type": "stream",
     "text": [
      "Enter a cost: 32.67\n",
      "Enter a selling price: 45\n",
      "Enter a quantity: 1200\n"
     ]
    },
    {
     "data": {
      "text/plain": [
       "14796.0"
      ]
     },
     "execution_count": 13,
     "metadata": {},
     "output_type": "execute_result"
    }
   ],
   "source": [
    "# write you code here\n",
    "\n",
    "prod_dict = {\n",
    "  \"cost_price\": 32.67,\n",
    "  \"sell_price\": 45.00,\n",
    "  \"inventory\": 1200\n",
    "}\n",
    "\n",
    "# profit_calc(prod_dict) =  14796\n",
    "\n",
    "#prod_dict = {\n",
    "  #\"cost_price\": 32.67,\n",
    "  #\"sell_price\": 45.00,\n",
    "  #\"inventory\": 1200,\n",
    "  #\"profit\": 14796\n",
    "#}\n",
    "\n",
    "\n",
    "#Call for user input of SP, Cost & Quantity\n",
    "user_cost = input('Enter a cost:')\n",
    "user_sp = input('Enter a selling price:')    \n",
    "user_qty = input('Enter a quantity:')\n",
    "\n",
    "#Convert inputs from strings to floats\n",
    "input_cost=float(user_cost)\n",
    "input_sp=float(user_sp)\n",
    "input_qty=float(user_qty)\n",
    "  \n",
    "import math\n",
    "\n",
    "#Define the function\n",
    "def profit_calc(input_cost,input_sp,input_qty):  \n",
    "    \n",
    "    #calculation for profit\n",
    "    profit = round((input_sp-input_cost)*input_qty,2)\n",
    "    return profit\n",
    "\n",
    "    #Append the profit calc to the prod_dict\n",
    "    prod_dict[\"profit\"]= profit\n",
    "    \n",
    "profit_calc(input_cost,input_sp,input_qty)  \n"
   ]
  },
  {
   "cell_type": "markdown",
   "metadata": {},
   "source": [
    "## Q5. Coding Problem\n",
    "\n",
    "You are tasked to write a function (`findall_lst()`) to find __all__ the indexes of the searched item in a list. \n",
    "\n",
    "We know we can use `.find()` method to search a list, but it will only return the __first__ index not __all__ of them.\n",
    "\n",
    "#### Examples: \n",
    "- findall_lst(([\"a\", \"a\", \"b\", \"a\", \"b\", \"a\"], \"a\") ➞ [0, 1, 3, 5]\n",
    "- findall_lst([1, 5, 5, 2, 7], 7) ➞ [4]\n",
    "- findall_lst([1, 5, 5, 2, 7], 8) ➞ []"
   ]
  },
  {
   "cell_type": "code",
   "execution_count": 14,
   "metadata": {
    "collapsed": false
   },
   "outputs": [
    {
     "name": "stdout",
     "output_type": "stream",
     "text": [
      "[1, 3, 5, 7, 5, 3, 1] [3]\n"
     ]
    }
   ],
   "source": [
    "# create variable to hold the list for search as `my_lst`\n",
    "my_lst=[1,3,5,7,5,3,1]\n",
    "# create variable to hold the element to search as `my_search`\n",
    "my_search=[3]\n",
    "print(my_lst, my_search)\n"
   ]
  },
  {
   "cell_type": "code",
   "execution_count": 34,
   "metadata": {
    "collapsed": true
   },
   "outputs": [
    {
     "name": "stdout",
     "output_type": "stream",
     "text": [
      "[]\n"
     ]
    }
   ],
   "source": [
    "# since the results are lists\n",
    "# initialize an empty list `search_results` to hold results\n",
    "search_results=[]\n",
    "print(search_results)\n"
   ]
  },
  {
   "cell_type": "code",
   "execution_count": 35,
   "metadata": {
    "collapsed": true
   },
   "outputs": [
    {
     "name": "stdout",
     "output_type": "stream",
     "text": [
      "[1, 5]\n"
     ]
    }
   ],
   "source": [
    "# since we need 'all' of something, we need a loop\n",
    "# iterate through `my_lst` to search for `my_search`\n",
    "# remember to retrive the index(es) from the list\n",
    "# update the `search_results` when you have a hit (found) - you should consider using `.append()`\n",
    "for idx, val in enumerate(my_lst): #USE ENUMERATE to get index (idx) and value (val)\n",
    "    if val in my_search:\n",
    "        search_results.append(idx)\n",
    "    else:\n",
    "        pass\n",
    "print(search_results)\n",
    "\n"
   ]
  },
  {
   "cell_type": "code",
   "execution_count": 63,
   "metadata": {
    "collapsed": true
   },
   "outputs": [
    {
     "name": "stdout",
     "output_type": "stream",
     "text": [
      "findall_lst( [1, 3, 5, 7, 5, 3, 1] , [3] ) ➞ [1, 5] )\n"
     ]
    }
   ],
   "source": [
    "# Put everything together as a function\n",
    "\n",
    "#Define function findall_lst()\n",
    "def findall_lst():\n",
    "\n",
    "    # create variable to hold the list for search as `my_lst`\n",
    "    my_lst=[1,3,5,7,5,3,1]\n",
    "    # create variable to hold the element to search as `my_search`\n",
    "    my_search=[3]\n",
    "    \n",
    "\n",
    "    # since the results are lists\n",
    "    # initialize an empty list `search_results` to hold results\n",
    "    search_results=[]\n",
    "    \n",
    "    # since we need 'all' of something, we need a loop\n",
    "    # iterate through `my_lst` to search for `my_search`\n",
    "    # remember to retrive the index(es) from the list\n",
    "    # update the `search_results` when you have a hit (found) - you should consider using `.append()`\n",
    "    for idx, val in enumerate(my_lst): #USE ENUMERATE to get index (idx) and value (val)\n",
    "        if val in my_search:\n",
    "            search_results.append(idx)\n",
    "        else:\n",
    "            pass\n",
    "        \n",
    "    print('findall_lst(',my_lst,',',my_search,') ➞',search_results,')')\n",
    "   \n",
    "findall_lst()"
   ]
  },
  {
   "cell_type": "markdown",
   "metadata": {},
   "source": [
    "## Q6. Coding Problem\n",
    "\n",
    "### The Karaca's Encryption Algorithm:\n",
    "\n",
    "Make a function (`karaca_encoder`) that encrypts a given input with these steps:\n",
    "\n",
    "- Input: `'Apple'` # you should test that all inputs are strings\n",
    "- Step 1: set everything to lowercase and reverse the string `'elppa'`, code snippet below can help with reversing a string:\n",
    "```python\n",
    "s = 'abc'\n",
    "''.join(reversed(s))  # 'cba'\n",
    "```\n",
    "\n",
    "- Step 2: replace all vowels using following table, so the input becomes `'1lpp0'`:\n",
    "\n",
    "| vowel | code |\n",
    "| ----- | ---- |\n",
    "| a | 0 |\n",
    "| e | 1 |\n",
    "| i | 2 |\n",
    "| o | 3 |\n",
    "| u | 4 |\n",
    "\n",
    "\n",
    "- Step 3: add `'aca'` to the end of the string, so the string becomes `'1lpp0aca'`\n",
    "- Voila! Return this string `'1lpp0aca'` as the encoded.\n",
    "\n",
    "#### Examples:\n",
    "- karaca_encoder(\"banana\") ➞ \"0n0n0baca\"\n",
    "- karaca_encoder(\"karaca\") ➞ \"0c0r0kaca\"\n",
    "- karaca_encoder(\"burak\") ➞ \"k0r3baca\"\n",
    "- karaca_encoder(\"alpaca\") ➞ \"0c0pl0aca\""
   ]
  },
  {
   "cell_type": "code",
   "execution_count": 7,
   "metadata": {},
   "outputs": [
    {
     "name": "stdin",
     "output_type": "stream",
     "text": [
      "Enter a word to code via the karaca_encoder: Banana\n"
     ]
    }
   ],
   "source": [
    "#Preliminaries - obtain user input and test for being a string\n",
    "user_word = input('Enter a word to code via the karaca_encoder:')\n",
    "\n",
    "#Ensure user_word is a string - if not, return an appropriate error message\n",
    "#Not sure why we are doing this...all user inputs - even numbers - are strings....\n",
    "\n",
    "if not user_word.isalpha():\n",
    "    print(\"Your word must consist of letters only\")\n",
    "else:\n",
    "    pass"
   ]
  },
  {
   "cell_type": "code",
   "execution_count": 13,
   "metadata": {},
   "outputs": [
    {
     "name": "stdout",
     "output_type": "stream",
     "text": [
      "banana\n"
     ]
    }
   ],
   "source": [
    "#Step 1a - Set all letters to lowercase\n",
    "\n",
    "#Set all letters to lowercase as lower_word\n",
    "lower_word=user_word.lower\n",
    "print(lower_word())\n"
   ]
  },
  {
   "cell_type": "code",
   "execution_count": 15,
   "metadata": {},
   "outputs": [
    {
     "name": "stdout",
     "output_type": "stream",
     "text": [
      "banana\n",
      "ananab\n"
     ]
    }
   ],
   "source": [
    "#Step 1b - Reverse string\n",
    "\n",
    "#Reverse String as rev_lower_word\n",
    "x=str(lower_word())\n",
    "print(x)\n",
    "rev_lower_word = ''.join(reversed(x))\n",
    "print(rev_lower_word)"
   ]
  },
  {
   "cell_type": "code",
   "execution_count": 20,
   "metadata": {},
   "outputs": [
    {
     "name": "stdout",
     "output_type": "stream",
     "text": [
      "0n0n0b\n"
     ]
    }
   ],
   "source": [
    "#Step 2 - Use all vowels using the table\n",
    "\n",
    "#Define a dictionary (vowels_dict)\n",
    "vowels_dict = {'a':'0', 'e':'1', 'i':'2', 'o':'3', 'u':'4'}\n",
    "\n",
    "#print (vowels_dict) to test that it works\n",
    "#print(vowels_dict) #OK...it works\n",
    "\n",
    "#set input_code_word as the backwards word, in all lower-case letters (rev_lower_word)\n",
    "input_code_word = rev_lower_word\n",
    "\n",
    "#create output_code_word and set as a blank expression\n",
    "output_code_word = ''\n",
    "\n",
    "#create a for loop to determine whether there is a vowel in the input_code_word\n",
    "for letter in input_code_word:\n",
    "    if letter in vowels_dict:\n",
    "        output_code_word += vowels_dict[letter] #if vowel in dictionary - use conversion value\n",
    "    else:\n",
    "        output_code_word += letter #if not vowel in dictionary - use original letter\n",
    "\n",
    "print(output_code_word)\n"
   ]
  },
  {
   "cell_type": "code",
   "execution_count": 22,
   "metadata": {},
   "outputs": [
    {
     "name": "stdout",
     "output_type": "stream",
     "text": [
      "0n0n0baca\n"
     ]
    }
   ],
   "source": [
    "#Step 3 - Append 'aca' to the end of the string\n",
    "\n",
    "final_output = output_code_word + 'aca'\n",
    "print(final_output)"
   ]
  },
  {
   "cell_type": "code",
   "execution_count": 23,
   "metadata": {
    "collapsed": true
   },
   "outputs": [
    {
     "name": "stdin",
     "output_type": "stream",
     "text": [
      "Enter a word to code via the karaca_encoder: Banana\n"
     ]
    },
    {
     "name": "stdout",
     "output_type": "stream",
     "text": [
      "karaca_encoder( banana ) ➞ 0n0n0baca\n"
     ]
    }
   ],
   "source": [
    "#ENTIRE CODE - ALL PARTS\n",
    "\n",
    "# Define the function (`karaca_encoder`) that encrypts a given input per the instructions\n",
    "def karaca_encoder():  \n",
    "    \n",
    "    #Preliminaries - obtain user input and test for being a string\n",
    "    user_word = input('Enter a word to code via the karaca_encoder:')\n",
    "\n",
    "    #Ensure user_word is a string - if not, return an appropriate error message\n",
    "    #Not sure why we are doing this...all user inputs - even numbers - are strings....\n",
    "    if not user_word.isalpha():\n",
    "        print(\"Your word must consist of letters only\")\n",
    "    else:\n",
    "        pass\n",
    "\n",
    "    #Step 1a - Set all letters to lowercase\n",
    "    #Set all letters to lowercase as lower_word\n",
    "    lower_word=user_word.lower\n",
    "    #print(lower_word())\n",
    "\n",
    "    #Step 1b - Reverse string\n",
    "    #Reverse String as rev_lower_word\n",
    "    rev_word=str(lower_word())\n",
    "    #print(rev_word)\n",
    "    rev_lower_word = ''.join(reversed(rev_word))\n",
    "    #print(rev_lower_word)\n",
    "\n",
    "    #Define a dictionary (vowels_dict)\n",
    "    vowels_dict = {'a':'0', 'e':'1', 'i':'2', 'o':'3', 'u':'4'}\n",
    "\n",
    "    #print the vowels_dict to test that it works\n",
    "    #print(vowels_dict) #OK...it works\n",
    "\n",
    "    #set input_code_word as the backwards word, in all lower-case letters (rev_lower_word)\n",
    "    input_code_word = rev_lower_word\n",
    "\n",
    "    #create output_code_word and set as a blank expression\n",
    "    output_code_word = ''\n",
    "\n",
    "    #create a for loop to determine whether there is a vowel in the input_code_word\n",
    "    for letter in input_code_word:\n",
    "        if letter in vowels_dict:\n",
    "            output_code_word += vowels_dict[letter] #if vowel in dictionary - use conversion value\n",
    "        else:\n",
    "            output_code_word += letter #if not vowel in dictionary - use original letter\n",
    "\n",
    "    #print(output_code_word)\n",
    "    \n",
    "    #Step 3 - Append 'aca' to the end of the string\n",
    "\n",
    "    final_output = output_code_word + 'aca'\n",
    "    print('karaca_encoder(',rev_word,') ➞',final_output)\n",
    "    \n",
    "karaca_encoder()"
   ]
  },
  {
   "cell_type": "markdown",
   "metadata": {},
   "source": [
    "# Q7. Coding Problem\n",
    "## Closed Brackets Detector - Extra Problem\n",
    "_if you want a little tease, this is a real interview question_. This problem will require you to put everything you learned so far in this class together.\n",
    "\n",
    "You have noticed that Jupyter can help you detect unclosed parentheses, for instance:\n",
    "```python\n",
    "list(str(type(x for x in range(l))) \n",
    "```\n",
    "will give you an error.\n",
    "\n",
    "In this question, you are going to replicate a simpler example of it.\n",
    "\n",
    "Your task in this exercise is as follows (two functions, one embed in another):\n",
    "\n",
    "1. Create a function that generates a string with N opening brackets (`[`) and N closing brackets (`]`), in some arbitrary order.\n",
    "2. Create a function that determines whether the generated string is balanced; that is, whether it consists entirely of pairs of opening/closing brackets (in that order), none of which mis-nest.\n",
    "\n",
    "Requirements:\n",
    "* Your test sequence of brackets need to be (`2,20`) digits long.\n",
    "* You need to generate at least `8` sequences \n",
    "\n",
    "Expected Output:\n",
    "```\n",
    "   []        OK   ][        NOT OK\n",
    "   [][]      OK   ][][      NOT OK\n",
    "   [[][]]    OK   []][[]    NOT OK\n",
    "```"
   ]
  },
  {
   "cell_type": "code",
   "execution_count": null,
   "metadata": {
    "collapsed": true
   },
   "outputs": [],
   "source": [
    "# Write your code here\n",
    "#IN THE INTEREST OF TIME (OR, MORE ACCURATELY, MY LACK THEREOF!)\n",
    "#I'M NOT GOING TO TRY THIS ONE RIGHT NOW!\n"
   ]
  }
 ],
 "metadata": {
  "kernelspec": {
   "display_name": "Python 3",
   "language": "python",
   "name": "python3"
  },
  "language_info": {
   "codemirror_mode": {
    "name": "ipython",
    "version": 3
   },
   "file_extension": ".py",
   "mimetype": "text/x-python",
   "name": "python",
   "nbconvert_exporter": "python",
   "pygments_lexer": "ipython3",
   "version": "3.6.7"
  }
 },
 "nbformat": 4,
 "nbformat_minor": 2
}
